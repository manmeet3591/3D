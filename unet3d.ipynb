{
  "nbformat": 4,
  "nbformat_minor": 0,
  "metadata": {
    "colab": {
      "provenance": [],
      "gpuType": "T4"
    },
    "kernelspec": {
      "name": "python3",
      "display_name": "Python 3"
    },
    "language_info": {
      "name": "python"
    },
    "accelerator": "GPU"
  },
  "cells": [
    {
      "cell_type": "code",
      "source": [
        "# https://github.com/jphdotam/Unet3D"
      ],
      "metadata": {
        "id": "bWI5bFqn1_Pb"
      },
      "execution_count": null,
      "outputs": []
    },
    {
      "cell_type": "code",
      "source": [
        "import torch\n",
        "import torch.nn as nn\n",
        "import torch.nn.functional as F\n",
        "\n",
        "\n",
        "class UNet(nn.Module):\n",
        "    def __init__(self, n_channels, n_classes, width_multiplier=1, trilinear=True, use_ds_conv=False, out_activation=None):\n",
        "        super(UNet, self).__init__()\n",
        "        _channels = (32, 64, 128, 256, 512)\n",
        "        self.n_channels = n_channels\n",
        "        self.n_classes = n_classes\n",
        "        self.channels = [int(c * width_multiplier) for c in _channels]\n",
        "        self.trilinear = trilinear\n",
        "        self.convtype = DepthwiseSeparableConv3d if use_ds_conv else nn.Conv3d\n",
        "\n",
        "        self.inc = DoubleConv(n_channels, self.channels[0], conv_type=self.convtype)\n",
        "        self.down1 = Down(self.channels[0], self.channels[1], conv_type=self.convtype)\n",
        "        self.down2 = Down(self.channels[1], self.channels[2], conv_type=self.convtype)\n",
        "        self.down3 = Down(self.channels[2], self.channels[3], conv_type=self.convtype)\n",
        "        factor = 2 if trilinear else 1\n",
        "        self.down4 = Down(self.channels[3], self.channels[4] // factor, conv_type=self.convtype)\n",
        "        self.up1 = Up(self.channels[4], self.channels[3] // factor, trilinear)\n",
        "        self.up2 = Up(self.channels[3], self.channels[2] // factor, trilinear)\n",
        "        self.up3 = Up(self.channels[2], self.channels[1] // factor, trilinear)\n",
        "        self.up4 = Up(self.channels[1], self.channels[0], trilinear)\n",
        "        self.outc = OutConv(self.channels[0], n_classes, activation=out_activation)\n",
        "\n",
        "    def forward(self, x):\n",
        "        x1 = self.inc(x)\n",
        "        x2 = self.down1(x1)\n",
        "        x3 = self.down2(x2)\n",
        "        x4 = self.down3(x3)\n",
        "        x5 = self.down4(x4)\n",
        "        x = self.up1(x5, x4)\n",
        "        x = self.up2(x, x3)\n",
        "        x = self.up3(x, x2)\n",
        "        x = self.up4(x, x1)\n",
        "        logits = self.outc(x)\n",
        "        return logits\n",
        "\n",
        "\n",
        "class DoubleConv(nn.Module):\n",
        "    def __init__(self, in_channels, out_channels, conv_type=nn.Conv3d, mid_channels=None):\n",
        "        super().__init__()\n",
        "        if not mid_channels:\n",
        "            mid_channels = out_channels\n",
        "        self.double_conv = nn.Sequential(\n",
        "            conv_type(in_channels, mid_channels, kernel_size=3, padding=1),\n",
        "            nn.BatchNorm3d(mid_channels),\n",
        "            nn.ReLU(inplace=True),\n",
        "            conv_type(mid_channels, out_channels, kernel_size=3, padding=1),\n",
        "            nn.BatchNorm3d(out_channels),\n",
        "            nn.ReLU(inplace=True)\n",
        "        )\n",
        "\n",
        "    def forward(self, x):\n",
        "        return self.double_conv(x)\n",
        "\n",
        "\n",
        "class Down(nn.Module):\n",
        "    def __init__(self, in_channels, out_channels, conv_type=nn.Conv3d):\n",
        "        super().__init__()\n",
        "        self.maxpool_conv = nn.Sequential(\n",
        "            nn.MaxPool3d(kernel_size=(1, 2, 2)),  # Preserve depth\n",
        "            DoubleConv(in_channels, out_channels, conv_type=conv_type)\n",
        "        )\n",
        "\n",
        "    def forward(self, x):\n",
        "        return self.maxpool_conv(x)\n",
        "\n",
        "\n",
        "class Up(nn.Module):\n",
        "    def __init__(self, in_channels, out_channels, trilinear=True):\n",
        "        super().__init__()\n",
        "        if trilinear:\n",
        "            self.up = nn.Upsample(scale_factor=(1, 2, 2), mode='trilinear', align_corners=True)\n",
        "            self.conv = DoubleConv(in_channels, out_channels, mid_channels=in_channels // 2)\n",
        "        else:\n",
        "            self.up = nn.ConvTranspose3d(in_channels, in_channels // 2, kernel_size=(1, 2, 2), stride=(1, 2, 2))\n",
        "            self.conv = DoubleConv(in_channels, out_channels)\n",
        "\n",
        "    def forward(self, x1, x2):\n",
        "        x1 = self.up(x1)\n",
        "        diffZ = x2.size()[2] - x1.size()[2]\n",
        "        diffY = x2.size()[3] - x1.size()[3]\n",
        "        diffX = x2.size()[4] - x1.size()[4]\n",
        "\n",
        "        x1 = F.pad(x1, [diffX // 2, diffX - diffX // 2,\n",
        "                        diffY // 2, diffY - diffY // 2,\n",
        "                        diffZ // 2, diffZ - diffZ // 2])\n",
        "        x = torch.cat([x2, x1], dim=1)\n",
        "        return self.conv(x)\n",
        "\n",
        "\n",
        "class OutConv(nn.Module):\n",
        "    def __init__(self, in_channels, out_channels, activation=None):\n",
        "        super(OutConv, self).__init__()\n",
        "        self.conv = nn.Conv3d(in_channels, out_channels, kernel_size=1)\n",
        "        self.activation = activation\n",
        "\n",
        "    def forward(self, x):\n",
        "        x = self.conv(x)\n",
        "        if self.activation == 'sigmoid':\n",
        "            return torch.sigmoid(x)\n",
        "        elif self.activation == 'tanh':\n",
        "            return torch.tanh(x)\n",
        "        return x\n",
        "\n",
        "\n",
        "class DepthwiseSeparableConv3d(nn.Module):\n",
        "    def __init__(self, nin, nout, kernel_size, padding, kernels_per_layer=1):\n",
        "        super(DepthwiseSeparableConv3d, self).__init__()\n",
        "        self.depthwise = nn.Conv3d(nin, nin * kernels_per_layer, kernel_size=kernel_size, padding=padding, groups=nin)\n",
        "        self.pointwise = nn.Conv3d(nin * kernels_per_layer, nout, kernel_size=1)\n",
        "\n",
        "    def forward(self, x):\n",
        "        out = self.depthwise(x)\n",
        "        out = self.pointwise(out)\n",
        "        return out\n"
      ],
      "metadata": {
        "id": "YUhxH6nAV3yw"
      },
      "execution_count": null,
      "outputs": []
    },
    {
      "cell_type": "code",
      "source": [
        "model = UNet(n_channels=84, n_classes=84, out_activation=None)  # Or 'sigmoid' / 'tanh'\n",
        "x = torch.randn(1, 84, 12, 64, 64)\n",
        "out = model(x)\n",
        "print(out.shape)  # Expected: torch.Size([1, 1, 12, 64, 64])"
      ],
      "metadata": {
        "colab": {
          "base_uri": "https://localhost:8080/"
        },
        "id": "4zKL0KW2zE7G",
        "outputId": "10e27b72-d49b-4710-b04d-264968cdc6f2"
      },
      "execution_count": null,
      "outputs": [
        {
          "output_type": "stream",
          "name": "stdout",
          "text": [
            "torch.Size([1, 84, 12, 64, 64])\n"
          ]
        }
      ]
    }
  ]
}